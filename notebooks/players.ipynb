{
 "cells": [
  {
   "cell_type": "markdown",
   "metadata": {},
   "source": [
    "# FIFA 22 Player Data\n",
    "\n",
    "This notebook demonstrates some of the data processing techniques you'll use in the homework on the make player data from FIFA 22. This data was originally obtained from [Kaggle](https://www.kaggle.com/stefanoleone992/fifa-22-complete-player-dataset)"
   ]
  },
  {
   "cell_type": "code",
   "execution_count": null,
   "metadata": {},
   "outputs": [],
   "source": [
    "import numpy as np\n",
    "import matplotlib.pyplot as plt\n",
    "import math\n",
    "plt.rcParams['figure.dpi'] = 300\n",
    "import csv\n",
    "from datetime import datetime\n",
    "%matplotlib inline"
   ]
  },
  {
   "cell_type": "markdown",
   "metadata": {},
   "source": [
    "These functions read in the data from the file and perform type conversion for the dataset we have been given. "
   ]
  },
  {
   "cell_type": "code",
   "execution_count": null,
   "metadata": {},
   "outputs": [],
   "source": [
    "def read_records(filename):\n",
    "    \"\"\"\n",
    "    Read a CSV file into a list of dictionaries, where each \n",
    "    dictionary has keys taken from the column names in the file.\n",
    "    \"\"\"\n",
    "    records = []\n",
    "    with open(filename, newline='') as csvfile:\n",
    "        reader = csv.DictReader(csvfile)\n",
    "        for row in reader:\n",
    "            convert_row(row)            \n",
    "            records.append(row)\n",
    "\n",
    "    return records\n",
    "\n",
    "\n",
    "def convert_row(row):\n",
    "    \"\"\"\n",
    "    Take a row and convert the values to the known data types.\n",
    "    \"\"\"\n",
    "#     duration is in seconds\n",
    "    row['age'] = float(row['age'])\n",
    "    row['weight_kg'] = float(row['weight_kg'])\n",
    "    row['height_cm'] = float(row['height_cm'])\n"
   ]
  },
  {
   "cell_type": "markdown",
   "metadata": {},
   "source": [
    "And the following cell reads in the data"
   ]
  },
  {
   "cell_type": "code",
   "execution_count": null,
   "metadata": {},
   "outputs": [],
   "source": [
    "data = read_records('../data/players_22.csv')\n",
    "print('Read in {} records'.format(len(data)))\n",
    "\n"
   ]
  },
  {
   "cell_type": "markdown",
   "metadata": {},
   "source": [
    "This next line extracts all the height values for all the players"
   ]
  },
  {
   "cell_type": "code",
   "execution_count": null,
   "metadata": {},
   "outputs": [],
   "source": [
    "heights = [row['height_cm'] for row in data]\n",
    "\n"
   ]
  },
  {
   "cell_type": "markdown",
   "metadata": {},
   "source": [
    "This function groups together the data for all values of the given field. For example, `height_groups = group_data_by_field(data, \"height_cm\")` would create a dictionary where the keys are hight values and the values are lists of rows from the dataset. You could then use `height_groups[170.0]` to print out the data from all players who are 170cm tall."
   ]
  },
  {
   "cell_type": "code",
   "execution_count": null,
   "metadata": {},
   "outputs": [],
   "source": [
    "def group_data_by_field(datalist, field):\n",
    "    \"\"\"\n",
    "    Given a list of dictionaries, return a dictionary of lists where each sublist contains all dictionaries with the same value of that field, \n",
    "    and the key of that entry is that value.\n",
    "    \"\"\"\n",
    "    output = dict()\n",
    "    for d in datalist:\n",
    "        # get the value of the field for this entry\n",
    "        field_value = d[field]\n",
    "        # if this value has not been seen before, create a new output entry for it\n",
    "        if field_value not in output:\n",
    "            output[field_value] = []\n",
    "        # append the entry to the list for this field value\n",
    "        output[field_value].append(d)\n",
    "    return output\n",
    "        "
   ]
  },
  {
   "cell_type": "code",
   "execution_count": null,
   "metadata": {},
   "outputs": [],
   "source": [
    "height_groups = group_data_by_field(data, \"height_cm\")"
   ]
  },
  {
   "cell_type": "code",
   "execution_count": null,
   "metadata": {},
   "outputs": [],
   "source": [
    "height_groups[170.0]"
   ]
  },
  {
   "cell_type": "code",
   "execution_count": null,
   "metadata": {},
   "outputs": [],
   "source": []
  }
 ],
 "metadata": {
  "interpreter": {
   "hash": "ec803f1efbae12935436e2bbb95975910d1934ad7cca094bc79341427835e9c7"
  },
  "kernelspec": {
   "display_name": "Python 3 (ipykernel)",
   "language": "python",
   "name": "python3"
  },
  "language_info": {
   "codemirror_mode": {
    "name": "ipython",
    "version": 3
   },
   "file_extension": ".py",
   "mimetype": "text/x-python",
   "name": "python",
   "nbconvert_exporter": "python",
   "pygments_lexer": "ipython3",
   "version": "3.9.7"
  }
 },
 "nbformat": 4,
 "nbformat_minor": 4
}
